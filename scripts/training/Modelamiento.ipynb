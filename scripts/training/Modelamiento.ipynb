{
  "cells": [
    {
      "cell_type": "markdown",
      "source": [
        "<img src=\"https://drive.google.com/uc?export=view&id=14reVO1X6LsjqJ3cFgoeHxxddZVGfZn3t\" width=\"100%\">"
      ],
      "metadata": {
        "id": "QkM7-9HU2f_C"
      },
      "id": "QkM7-9HU2f_C"
    },
    {
      "cell_type": "markdown",
      "id": "14540419-bed6-46a3-8f5d-bf3a87ac34d1",
      "metadata": {
        "id": "14540419-bed6-46a3-8f5d-bf3a87ac34d1"
      },
      "source": [
        "# Modelamiento\n",
        "---\n",
        "\n",
        "Este notebook se enfocará en optimizar el rendimiento del modelo mediante dos procesos críticos: primero, implementaremos la búsqueda de hiperparámetros, explorando de manera sistemática diferentes configuraciones como la tasa de aprendizaje, el tamaño del lote y la arquitectura de las capas, para identificar la combinación que maximice la precisión de nuestra CNN en la tarea de clasificación de plagas; y segundo, realizaremos el entrenamiento principal para obtener un modelo completamente ajustado.\n",
        "\n",
        "Importemos los paquetes necesarios"
      ]
    },
    {
      "cell_type": "code",
      "source": [
        "!pip install keras_tuner"
      ],
      "metadata": {
        "colab": {
          "base_uri": "https://localhost:8080/"
        },
        "id": "jsQOrkyrmNdV",
        "outputId": "07f70397-e6af-43c8-f68a-eaadeba698ae"
      },
      "id": "jsQOrkyrmNdV",
      "execution_count": 2,
      "outputs": [
        {
          "output_type": "stream",
          "name": "stdout",
          "text": [
            "Collecting keras_tuner\n",
            "  Downloading keras_tuner-1.4.7-py3-none-any.whl.metadata (5.4 kB)\n",
            "Requirement already satisfied: keras in /usr/local/lib/python3.11/dist-packages (from keras_tuner) (3.8.0)\n",
            "Requirement already satisfied: packaging in /usr/local/lib/python3.11/dist-packages (from keras_tuner) (25.0)\n",
            "Requirement already satisfied: requests in /usr/local/lib/python3.11/dist-packages (from keras_tuner) (2.32.3)\n",
            "Collecting kt-legacy (from keras_tuner)\n",
            "  Downloading kt_legacy-1.0.5-py3-none-any.whl.metadata (221 bytes)\n",
            "Requirement already satisfied: absl-py in /usr/local/lib/python3.11/dist-packages (from keras->keras_tuner) (1.4.0)\n",
            "Requirement already satisfied: numpy in /usr/local/lib/python3.11/dist-packages (from keras->keras_tuner) (2.0.2)\n",
            "Requirement already satisfied: rich in /usr/local/lib/python3.11/dist-packages (from keras->keras_tuner) (13.9.4)\n",
            "Requirement already satisfied: namex in /usr/local/lib/python3.11/dist-packages (from keras->keras_tuner) (0.1.0)\n",
            "Requirement already satisfied: h5py in /usr/local/lib/python3.11/dist-packages (from keras->keras_tuner) (3.14.0)\n",
            "Requirement already satisfied: optree in /usr/local/lib/python3.11/dist-packages (from keras->keras_tuner) (0.16.0)\n",
            "Requirement already satisfied: ml-dtypes in /usr/local/lib/python3.11/dist-packages (from keras->keras_tuner) (0.4.1)\n",
            "Requirement already satisfied: charset-normalizer<4,>=2 in /usr/local/lib/python3.11/dist-packages (from requests->keras_tuner) (3.4.2)\n",
            "Requirement already satisfied: idna<4,>=2.5 in /usr/local/lib/python3.11/dist-packages (from requests->keras_tuner) (3.10)\n",
            "Requirement already satisfied: urllib3<3,>=1.21.1 in /usr/local/lib/python3.11/dist-packages (from requests->keras_tuner) (2.5.0)\n",
            "Requirement already satisfied: certifi>=2017.4.17 in /usr/local/lib/python3.11/dist-packages (from requests->keras_tuner) (2025.7.14)\n",
            "Requirement already satisfied: typing-extensions>=4.6.0 in /usr/local/lib/python3.11/dist-packages (from optree->keras->keras_tuner) (4.14.1)\n",
            "Requirement already satisfied: markdown-it-py>=2.2.0 in /usr/local/lib/python3.11/dist-packages (from rich->keras->keras_tuner) (3.0.0)\n",
            "Requirement already satisfied: pygments<3.0.0,>=2.13.0 in /usr/local/lib/python3.11/dist-packages (from rich->keras->keras_tuner) (2.19.2)\n",
            "Requirement already satisfied: mdurl~=0.1 in /usr/local/lib/python3.11/dist-packages (from markdown-it-py>=2.2.0->rich->keras->keras_tuner) (0.1.2)\n",
            "Downloading keras_tuner-1.4.7-py3-none-any.whl (129 kB)\n",
            "\u001b[2K   \u001b[90m━━━━━━━━━━━━━━━━━━━━━━━━━━━━━━━━━━━━━━━━\u001b[0m \u001b[32m129.1/129.1 kB\u001b[0m \u001b[31m1.6 MB/s\u001b[0m eta \u001b[36m0:00:00\u001b[0m\n",
            "\u001b[?25hDownloading kt_legacy-1.0.5-py3-none-any.whl (9.6 kB)\n",
            "Installing collected packages: kt-legacy, keras_tuner\n",
            "Successfully installed keras_tuner-1.4.7 kt-legacy-1.0.5\n"
          ]
        }
      ]
    },
    {
      "cell_type": "code",
      "execution_count": 3,
      "id": "4410a565-ac2b-4210-ae28-e265d9731564",
      "metadata": {
        "execution": {
          "iopub.execute_input": "2025-07-03T14:51:38.432543Z",
          "iopub.status.busy": "2025-07-03T14:51:38.431842Z",
          "iopub.status.idle": "2025-07-03T14:51:38.435329Z",
          "shell.execute_reply": "2025-07-03T14:51:38.434962Z",
          "shell.execute_reply.started": "2025-07-03T14:51:38.432515Z"
        },
        "id": "4410a565-ac2b-4210-ae28-e265d9731564"
      },
      "outputs": [],
      "source": [
        "import numpy as np\n",
        "import pandas as pd\n",
        "\n",
        "import matplotlib.pyplot as plt\n",
        "import os\n",
        "import sys\n",
        "import kagglehub\n",
        "\n",
        "from sklearn.model_selection import train_test_split\n",
        "import keras\n",
        "import keras_tuner\n",
        "import gdown\n",
        "import zipfile"
      ]
    },
    {
      "cell_type": "markdown",
      "id": "9688b05e-ad4c-4c10-abd5-6ef87d009752",
      "metadata": {
        "id": "9688b05e-ad4c-4c10-abd5-6ef87d009752"
      },
      "source": [
        "Ahora carguemos el conjunto de datos usando la API de Kaggle"
      ]
    },
    {
      "cell_type": "code",
      "execution_count": 4,
      "id": "dc4754a3-3ba5-475a-8235-adf63d6b9272",
      "metadata": {
        "execution": {
          "iopub.execute_input": "2025-07-03T14:51:39.175277Z",
          "iopub.status.busy": "2025-07-03T14:51:39.175059Z",
          "iopub.status.idle": "2025-07-03T14:51:39.460754Z",
          "shell.execute_reply": "2025-07-03T14:51:39.460345Z",
          "shell.execute_reply.started": "2025-07-03T14:51:39.175258Z"
        },
        "id": "dc4754a3-3ba5-475a-8235-adf63d6b9272",
        "colab": {
          "base_uri": "https://localhost:8080/"
        },
        "outputId": "f36705c2-f7be-4571-e66c-a65f44104f3a"
      },
      "outputs": [
        {
          "output_type": "stream",
          "name": "stdout",
          "text": [
            "Downloading from https://www.kaggle.com/api/v1/datasets/download/vencerlanz09/agricultural-pests-image-dataset?dataset_version_number=1...\n"
          ]
        },
        {
          "output_type": "stream",
          "name": "stderr",
          "text": [
            "100%|██████████| 102M/102M [00:04<00:00, 25.7MB/s]"
          ]
        },
        {
          "output_type": "stream",
          "name": "stdout",
          "text": [
            "Extracting files...\n"
          ]
        },
        {
          "output_type": "stream",
          "name": "stderr",
          "text": [
            "\n"
          ]
        }
      ],
      "source": [
        "path = kagglehub.dataset_download(\"vencerlanz09/agricultural-pests-image-dataset\")"
      ]
    },
    {
      "cell_type": "markdown",
      "id": "4642172f-1581-4aa6-9748-b66c0f799136",
      "metadata": {
        "id": "4642172f-1581-4aa6-9748-b66c0f799136"
      },
      "source": [
        "# 1. Particionamiento del conjunto de datos"
      ]
    },
    {
      "cell_type": "code",
      "execution_count": 5,
      "id": "c95fd077-23e1-4c62-840e-b50d804901a4",
      "metadata": {
        "execution": {
          "iopub.execute_input": "2025-07-03T14:51:40.169269Z",
          "iopub.status.busy": "2025-07-03T14:51:40.168764Z",
          "iopub.status.idle": "2025-07-03T14:51:40.186227Z",
          "shell.execute_reply": "2025-07-03T14:51:40.185844Z",
          "shell.execute_reply.started": "2025-07-03T14:51:40.169241Z"
        },
        "id": "c95fd077-23e1-4c62-840e-b50d804901a4",
        "outputId": "483c936d-1353-4ad5-927f-82a77c1f7d9f",
        "colab": {
          "base_uri": "https://localhost:8080/",
          "height": 206
        }
      },
      "outputs": [
        {
          "output_type": "execute_result",
          "data": {
            "text/plain": [
              "                                                path    class name label\n",
              "0  /root/.cache/kagglehub/datasets/vencerlanz09/a...  catterpillar     0\n",
              "1  /root/.cache/kagglehub/datasets/vencerlanz09/a...  catterpillar     0\n",
              "2  /root/.cache/kagglehub/datasets/vencerlanz09/a...  catterpillar     0\n",
              "3  /root/.cache/kagglehub/datasets/vencerlanz09/a...  catterpillar     0\n",
              "4  /root/.cache/kagglehub/datasets/vencerlanz09/a...  catterpillar     0"
            ],
            "text/html": [
              "\n",
              "  <div id=\"df-5e1d250d-b637-4232-b007-db68a5b42041\" class=\"colab-df-container\">\n",
              "    <div>\n",
              "<style scoped>\n",
              "    .dataframe tbody tr th:only-of-type {\n",
              "        vertical-align: middle;\n",
              "    }\n",
              "\n",
              "    .dataframe tbody tr th {\n",
              "        vertical-align: top;\n",
              "    }\n",
              "\n",
              "    .dataframe thead th {\n",
              "        text-align: right;\n",
              "    }\n",
              "</style>\n",
              "<table border=\"1\" class=\"dataframe\">\n",
              "  <thead>\n",
              "    <tr style=\"text-align: right;\">\n",
              "      <th></th>\n",
              "      <th>path</th>\n",
              "      <th>class name</th>\n",
              "      <th>label</th>\n",
              "    </tr>\n",
              "  </thead>\n",
              "  <tbody>\n",
              "    <tr>\n",
              "      <th>0</th>\n",
              "      <td>/root/.cache/kagglehub/datasets/vencerlanz09/a...</td>\n",
              "      <td>catterpillar</td>\n",
              "      <td>0</td>\n",
              "    </tr>\n",
              "    <tr>\n",
              "      <th>1</th>\n",
              "      <td>/root/.cache/kagglehub/datasets/vencerlanz09/a...</td>\n",
              "      <td>catterpillar</td>\n",
              "      <td>0</td>\n",
              "    </tr>\n",
              "    <tr>\n",
              "      <th>2</th>\n",
              "      <td>/root/.cache/kagglehub/datasets/vencerlanz09/a...</td>\n",
              "      <td>catterpillar</td>\n",
              "      <td>0</td>\n",
              "    </tr>\n",
              "    <tr>\n",
              "      <th>3</th>\n",
              "      <td>/root/.cache/kagglehub/datasets/vencerlanz09/a...</td>\n",
              "      <td>catterpillar</td>\n",
              "      <td>0</td>\n",
              "    </tr>\n",
              "    <tr>\n",
              "      <th>4</th>\n",
              "      <td>/root/.cache/kagglehub/datasets/vencerlanz09/a...</td>\n",
              "      <td>catterpillar</td>\n",
              "      <td>0</td>\n",
              "    </tr>\n",
              "  </tbody>\n",
              "</table>\n",
              "</div>\n",
              "    <div class=\"colab-df-buttons\">\n",
              "\n",
              "  <div class=\"colab-df-container\">\n",
              "    <button class=\"colab-df-convert\" onclick=\"convertToInteractive('df-5e1d250d-b637-4232-b007-db68a5b42041')\"\n",
              "            title=\"Convert this dataframe to an interactive table.\"\n",
              "            style=\"display:none;\">\n",
              "\n",
              "  <svg xmlns=\"http://www.w3.org/2000/svg\" height=\"24px\" viewBox=\"0 -960 960 960\">\n",
              "    <path d=\"M120-120v-720h720v720H120Zm60-500h600v-160H180v160Zm220 220h160v-160H400v160Zm0 220h160v-160H400v160ZM180-400h160v-160H180v160Zm440 0h160v-160H620v160ZM180-180h160v-160H180v160Zm440 0h160v-160H620v160Z\"/>\n",
              "  </svg>\n",
              "    </button>\n",
              "\n",
              "  <style>\n",
              "    .colab-df-container {\n",
              "      display:flex;\n",
              "      gap: 12px;\n",
              "    }\n",
              "\n",
              "    .colab-df-convert {\n",
              "      background-color: #E8F0FE;\n",
              "      border: none;\n",
              "      border-radius: 50%;\n",
              "      cursor: pointer;\n",
              "      display: none;\n",
              "      fill: #1967D2;\n",
              "      height: 32px;\n",
              "      padding: 0 0 0 0;\n",
              "      width: 32px;\n",
              "    }\n",
              "\n",
              "    .colab-df-convert:hover {\n",
              "      background-color: #E2EBFA;\n",
              "      box-shadow: 0px 1px 2px rgba(60, 64, 67, 0.3), 0px 1px 3px 1px rgba(60, 64, 67, 0.15);\n",
              "      fill: #174EA6;\n",
              "    }\n",
              "\n",
              "    .colab-df-buttons div {\n",
              "      margin-bottom: 4px;\n",
              "    }\n",
              "\n",
              "    [theme=dark] .colab-df-convert {\n",
              "      background-color: #3B4455;\n",
              "      fill: #D2E3FC;\n",
              "    }\n",
              "\n",
              "    [theme=dark] .colab-df-convert:hover {\n",
              "      background-color: #434B5C;\n",
              "      box-shadow: 0px 1px 3px 1px rgba(0, 0, 0, 0.15);\n",
              "      filter: drop-shadow(0px 1px 2px rgba(0, 0, 0, 0.3));\n",
              "      fill: #FFFFFF;\n",
              "    }\n",
              "  </style>\n",
              "\n",
              "    <script>\n",
              "      const buttonEl =\n",
              "        document.querySelector('#df-5e1d250d-b637-4232-b007-db68a5b42041 button.colab-df-convert');\n",
              "      buttonEl.style.display =\n",
              "        google.colab.kernel.accessAllowed ? 'block' : 'none';\n",
              "\n",
              "      async function convertToInteractive(key) {\n",
              "        const element = document.querySelector('#df-5e1d250d-b637-4232-b007-db68a5b42041');\n",
              "        const dataTable =\n",
              "          await google.colab.kernel.invokeFunction('convertToInteractive',\n",
              "                                                    [key], {});\n",
              "        if (!dataTable) return;\n",
              "\n",
              "        const docLinkHtml = 'Like what you see? Visit the ' +\n",
              "          '<a target=\"_blank\" href=https://colab.research.google.com/notebooks/data_table.ipynb>data table notebook</a>'\n",
              "          + ' to learn more about interactive tables.';\n",
              "        element.innerHTML = '';\n",
              "        dataTable['output_type'] = 'display_data';\n",
              "        await google.colab.output.renderOutput(dataTable, element);\n",
              "        const docLink = document.createElement('div');\n",
              "        docLink.innerHTML = docLinkHtml;\n",
              "        element.appendChild(docLink);\n",
              "      }\n",
              "    </script>\n",
              "  </div>\n",
              "\n",
              "\n",
              "    <div id=\"df-a2aa1ce4-dfac-46c9-ac00-bdb0693d1a14\">\n",
              "      <button class=\"colab-df-quickchart\" onclick=\"quickchart('df-a2aa1ce4-dfac-46c9-ac00-bdb0693d1a14')\"\n",
              "                title=\"Suggest charts\"\n",
              "                style=\"display:none;\">\n",
              "\n",
              "<svg xmlns=\"http://www.w3.org/2000/svg\" height=\"24px\"viewBox=\"0 0 24 24\"\n",
              "     width=\"24px\">\n",
              "    <g>\n",
              "        <path d=\"M19 3H5c-1.1 0-2 .9-2 2v14c0 1.1.9 2 2 2h14c1.1 0 2-.9 2-2V5c0-1.1-.9-2-2-2zM9 17H7v-7h2v7zm4 0h-2V7h2v10zm4 0h-2v-4h2v4z\"/>\n",
              "    </g>\n",
              "</svg>\n",
              "      </button>\n",
              "\n",
              "<style>\n",
              "  .colab-df-quickchart {\n",
              "      --bg-color: #E8F0FE;\n",
              "      --fill-color: #1967D2;\n",
              "      --hover-bg-color: #E2EBFA;\n",
              "      --hover-fill-color: #174EA6;\n",
              "      --disabled-fill-color: #AAA;\n",
              "      --disabled-bg-color: #DDD;\n",
              "  }\n",
              "\n",
              "  [theme=dark] .colab-df-quickchart {\n",
              "      --bg-color: #3B4455;\n",
              "      --fill-color: #D2E3FC;\n",
              "      --hover-bg-color: #434B5C;\n",
              "      --hover-fill-color: #FFFFFF;\n",
              "      --disabled-bg-color: #3B4455;\n",
              "      --disabled-fill-color: #666;\n",
              "  }\n",
              "\n",
              "  .colab-df-quickchart {\n",
              "    background-color: var(--bg-color);\n",
              "    border: none;\n",
              "    border-radius: 50%;\n",
              "    cursor: pointer;\n",
              "    display: none;\n",
              "    fill: var(--fill-color);\n",
              "    height: 32px;\n",
              "    padding: 0;\n",
              "    width: 32px;\n",
              "  }\n",
              "\n",
              "  .colab-df-quickchart:hover {\n",
              "    background-color: var(--hover-bg-color);\n",
              "    box-shadow: 0 1px 2px rgba(60, 64, 67, 0.3), 0 1px 3px 1px rgba(60, 64, 67, 0.15);\n",
              "    fill: var(--button-hover-fill-color);\n",
              "  }\n",
              "\n",
              "  .colab-df-quickchart-complete:disabled,\n",
              "  .colab-df-quickchart-complete:disabled:hover {\n",
              "    background-color: var(--disabled-bg-color);\n",
              "    fill: var(--disabled-fill-color);\n",
              "    box-shadow: none;\n",
              "  }\n",
              "\n",
              "  .colab-df-spinner {\n",
              "    border: 2px solid var(--fill-color);\n",
              "    border-color: transparent;\n",
              "    border-bottom-color: var(--fill-color);\n",
              "    animation:\n",
              "      spin 1s steps(1) infinite;\n",
              "  }\n",
              "\n",
              "  @keyframes spin {\n",
              "    0% {\n",
              "      border-color: transparent;\n",
              "      border-bottom-color: var(--fill-color);\n",
              "      border-left-color: var(--fill-color);\n",
              "    }\n",
              "    20% {\n",
              "      border-color: transparent;\n",
              "      border-left-color: var(--fill-color);\n",
              "      border-top-color: var(--fill-color);\n",
              "    }\n",
              "    30% {\n",
              "      border-color: transparent;\n",
              "      border-left-color: var(--fill-color);\n",
              "      border-top-color: var(--fill-color);\n",
              "      border-right-color: var(--fill-color);\n",
              "    }\n",
              "    40% {\n",
              "      border-color: transparent;\n",
              "      border-right-color: var(--fill-color);\n",
              "      border-top-color: var(--fill-color);\n",
              "    }\n",
              "    60% {\n",
              "      border-color: transparent;\n",
              "      border-right-color: var(--fill-color);\n",
              "    }\n",
              "    80% {\n",
              "      border-color: transparent;\n",
              "      border-right-color: var(--fill-color);\n",
              "      border-bottom-color: var(--fill-color);\n",
              "    }\n",
              "    90% {\n",
              "      border-color: transparent;\n",
              "      border-bottom-color: var(--fill-color);\n",
              "    }\n",
              "  }\n",
              "</style>\n",
              "\n",
              "      <script>\n",
              "        async function quickchart(key) {\n",
              "          const quickchartButtonEl =\n",
              "            document.querySelector('#' + key + ' button');\n",
              "          quickchartButtonEl.disabled = true;  // To prevent multiple clicks.\n",
              "          quickchartButtonEl.classList.add('colab-df-spinner');\n",
              "          try {\n",
              "            const charts = await google.colab.kernel.invokeFunction(\n",
              "                'suggestCharts', [key], {});\n",
              "          } catch (error) {\n",
              "            console.error('Error during call to suggestCharts:', error);\n",
              "          }\n",
              "          quickchartButtonEl.classList.remove('colab-df-spinner');\n",
              "          quickchartButtonEl.classList.add('colab-df-quickchart-complete');\n",
              "        }\n",
              "        (() => {\n",
              "          let quickchartButtonEl =\n",
              "            document.querySelector('#df-a2aa1ce4-dfac-46c9-ac00-bdb0693d1a14 button');\n",
              "          quickchartButtonEl.style.display =\n",
              "            google.colab.kernel.accessAllowed ? 'block' : 'none';\n",
              "        })();\n",
              "      </script>\n",
              "    </div>\n",
              "\n",
              "    </div>\n",
              "  </div>\n"
            ],
            "application/vnd.google.colaboratory.intrinsic+json": {
              "type": "dataframe",
              "variable_name": "metadata",
              "summary": "{\n  \"name\": \"metadata\",\n  \"rows\": 5494,\n  \"fields\": [\n    {\n      \"column\": \"path\",\n      \"properties\": {\n        \"dtype\": \"string\",\n        \"num_unique_values\": 5494,\n        \"samples\": [\n          \"/root/.cache/kagglehub/datasets/vencerlanz09/agricultural-pests-image-dataset/versions/1/slug/slug (244).jpg\",\n          \"/root/.cache/kagglehub/datasets/vencerlanz09/agricultural-pests-image-dataset/versions/1/moth/moth (79).jpg\",\n          \"/root/.cache/kagglehub/datasets/vencerlanz09/agricultural-pests-image-dataset/versions/1/slug/slug (323).jpg\"\n        ],\n        \"semantic_type\": \"\",\n        \"description\": \"\"\n      }\n    },\n    {\n      \"column\": \"class name\",\n      \"properties\": {\n        \"dtype\": \"category\",\n        \"num_unique_values\": 12,\n        \"samples\": [\n          \"earwig\",\n          \"grasshopper\",\n          \"catterpillar\"\n        ],\n        \"semantic_type\": \"\",\n        \"description\": \"\"\n      }\n    },\n    {\n      \"column\": \"label\",\n      \"properties\": {\n        \"dtype\": \"category\",\n        \"num_unique_values\": 12,\n        \"samples\": [\n          \"10\",\n          \"9\",\n          \"0\"\n        ],\n        \"semantic_type\": \"\",\n        \"description\": \"\"\n      }\n    }\n  ]\n}"
            }
          },
          "metadata": {},
          "execution_count": 5
        }
      ],
      "source": [
        "image_path = []\n",
        "image_class = []\n",
        "labels = []\n",
        "\n",
        "classes = os.listdir(path)\n",
        "for label, Class in enumerate(classes):\n",
        "    images_names = os.listdir(f'{path}/{Class}')\n",
        "    image_path = image_path +  [f'{path}/{Class}/{name}' for name in images_names]\n",
        "    image_class = image_class + len(images_names)*[Class]\n",
        "    labels = labels + len(images_names)*[label]\n",
        "\n",
        "metadata = pd.DataFrame(np.array([image_path, image_class, labels]).T, columns=['path','class name','label'])\n",
        "metadata.head()"
      ]
    },
    {
      "cell_type": "code",
      "execution_count": 6,
      "id": "d604fe84-9a38-4588-b0f0-040d5254f6de",
      "metadata": {
        "execution": {
          "iopub.execute_input": "2025-07-03T14:51:40.703957Z",
          "iopub.status.busy": "2025-07-03T14:51:40.703591Z",
          "iopub.status.idle": "2025-07-03T14:51:40.709371Z",
          "shell.execute_reply": "2025-07-03T14:51:40.708966Z",
          "shell.execute_reply.started": "2025-07-03T14:51:40.703938Z"
        },
        "id": "d604fe84-9a38-4588-b0f0-040d5254f6de",
        "outputId": "9a327130-484d-4748-b118-f45ca7bdb3e7",
        "colab": {
          "base_uri": "https://localhost:8080/"
        }
      },
      "outputs": [
        {
          "output_type": "stream",
          "name": "stdout",
          "text": [
            "Numero de registros de entrenamiento: 3851\n",
            "Numero de registros de validación: 818\n",
            "Numero de registros de Ajuste: 825\n"
          ]
        }
      ],
      "source": [
        "metadata_train, metadata_test = train_test_split(metadata, test_size=0.15, random_state=42)\n",
        "metadata_train, metadata_tune = train_test_split(metadata_train, test_size=0.175, random_state=42)\n",
        "\n",
        "print(f'Numero de registros de entrenamiento: {metadata_train.shape[0]}')\n",
        "print(f'Numero de registros de validación: {metadata_tune.shape[0]}')\n",
        "print(f'Numero de registros de Ajuste: {metadata_test.shape[0]}')"
      ]
    },
    {
      "cell_type": "markdown",
      "id": "22b3d308-11ca-4755-b4e0-4ed8f54d744d",
      "metadata": {
        "id": "22b3d308-11ca-4755-b4e0-4ed8f54d744d"
      },
      "source": [
        "# 2. Generadores de datos"
      ]
    },
    {
      "cell_type": "code",
      "source": [
        "scripts_url = \"https://drive.google.com/uc?id=1Ua3O6uh45uNOfcIbPZch2uDHeGUVmpL8\"\n",
        "zip_path = \"/content/scripts.zip\"\n",
        "gdown.download(scripts_url, zip_path)\n",
        "\n",
        "if os.path.exists(zip_path):\n",
        "    with zipfile.ZipFile(zip_path, \"r\") as zip_ref:\n",
        "        zip_ref.extractall()\n",
        "    print(\"Extracción completada.\")\n",
        "\n",
        "else:\n",
        "    print(f\"Archivo no encontrado: {zip_path}.\")\n",
        "\n",
        "script_folder = \"/content/scripts\""
      ],
      "metadata": {
        "colab": {
          "base_uri": "https://localhost:8080/"
        },
        "id": "g5mOzIHemE_s",
        "outputId": "e33a46e9-9b95-4f75-c6b0-2e514fede7f3"
      },
      "id": "g5mOzIHemE_s",
      "execution_count": 7,
      "outputs": [
        {
          "output_type": "stream",
          "name": "stderr",
          "text": [
            "Downloading...\n",
            "From (original): https://drive.google.com/uc?id=1Ua3O6uh45uNOfcIbPZch2uDHeGUVmpL8\n",
            "From (redirected): https://drive.google.com/uc?id=1Ua3O6uh45uNOfcIbPZch2uDHeGUVmpL8&confirm=t&uuid=2e8b5c7c-ccec-4652-b89f-77cb88554e4f\n",
            "To: /content/scripts.zip\n",
            "100%|██████████| 377M/377M [00:08<00:00, 46.1MB/s]\n"
          ]
        },
        {
          "output_type": "stream",
          "name": "stdout",
          "text": [
            "Extracción completada.\n"
          ]
        }
      ]
    },
    {
      "cell_type": "code",
      "execution_count": 8,
      "id": "b4524a9f-bdc2-4e67-9a73-fa15ae02a2cf",
      "metadata": {
        "execution": {
          "iopub.execute_input": "2025-07-03T14:51:41.631223Z",
          "iopub.status.busy": "2025-07-03T14:51:41.631014Z",
          "iopub.status.idle": "2025-07-03T14:51:41.633970Z",
          "shell.execute_reply": "2025-07-03T14:51:41.633575Z",
          "shell.execute_reply.started": "2025-07-03T14:51:41.631204Z"
        },
        "id": "b4524a9f-bdc2-4e67-9a73-fa15ae02a2cf"
      },
      "outputs": [],
      "source": [
        "from scripts.preprocessing import DataGenerator as gd"
      ]
    },
    {
      "cell_type": "code",
      "execution_count": 9,
      "id": "9d225f8b-6173-42c9-9721-8db6b9a2c58c",
      "metadata": {
        "execution": {
          "iopub.execute_input": "2025-07-03T14:51:41.983556Z",
          "iopub.status.busy": "2025-07-03T14:51:41.983317Z",
          "iopub.status.idle": "2025-07-03T14:51:42.024157Z",
          "shell.execute_reply": "2025-07-03T14:51:42.020607Z",
          "shell.execute_reply.started": "2025-07-03T14:51:41.983539Z"
        },
        "id": "9d225f8b-6173-42c9-9721-8db6b9a2c58c",
        "outputId": "b2c060c5-4d7f-4d44-ea07-2a53f1e4e72b",
        "colab": {
          "base_uri": "https://localhost:8080/"
        }
      },
      "outputs": [
        {
          "output_type": "stream",
          "name": "stdout",
          "text": [
            "Dimensión de tensor de entrada: (32, 128, 128, 3)\n",
            "Dimensión de tensor de salida: (32, 1)\n"
          ]
        }
      ],
      "source": [
        "train_generator = gd.DataGenerator(metadata_train, batch_size=32, dim=(128,128,3), shuffle=True)\n",
        "test_generator = gd.DataGenerator(metadata_test, batch_size=32, dim=(128,128,3), shuffle=True)\n",
        "tune_generator = gd.DataGenerator(metadata_tune, batch_size=32, dim=(128,128,3), shuffle=True)\n",
        "\n",
        "X, Y = train_generator.__getitem__(0)\n",
        "print(f'Dimensión de tensor de entrada: {X.shape}')\n",
        "print(f'Dimensión de tensor de salida: {Y.shape}')"
      ]
    },
    {
      "cell_type": "markdown",
      "id": "f4d4ec21-e1e4-474c-b011-ee3f8f372bfb",
      "metadata": {
        "id": "f4d4ec21-e1e4-474c-b011-ee3f8f372bfb"
      },
      "source": [
        "# 3. Busqueda de hiperparametros"
      ]
    },
    {
      "cell_type": "code",
      "execution_count": 10,
      "id": "7103c123-74f4-4d27-bb07-62580e8f9dea",
      "metadata": {
        "execution": {
          "iopub.execute_input": "2025-07-03T14:51:43.047508Z",
          "iopub.status.busy": "2025-07-03T14:51:43.047098Z",
          "iopub.status.idle": "2025-07-03T14:51:43.051286Z",
          "shell.execute_reply": "2025-07-03T14:51:43.050869Z",
          "shell.execute_reply.started": "2025-07-03T14:51:43.047488Z"
        },
        "id": "7103c123-74f4-4d27-bb07-62580e8f9dea"
      },
      "outputs": [],
      "source": [
        "def build_model(hp):\n",
        "    keras.backend.clear_session()\n",
        "\n",
        "    bb = keras.applications.VGG19(include_top=False, weights=\"imagenet\", input_shape=(128,128,3))\n",
        "    for layer in bb.layers:\n",
        "        layer.trainable=False\n",
        "\n",
        "    model = keras.Sequential()\n",
        "    model.add(keras.layers.Input((128,128,3)))\n",
        "    model.add(bb)\n",
        "    model.add(keras.layers.GlobalAveragePooling2D())\n",
        "    model.add(keras.layers.Dense(hp.Choice('units', [64, 128, 256]), activation='relu'))\n",
        "    model.add(keras.layers.Dense(12, activation='softmax'))\n",
        "\n",
        "    model.compile(optimizer=keras.optimizers.Adam(learning_rate=hp.Float(\"lr\", min_value=1e-4, max_value=1e-2, sampling=\"log\")),\n",
        "                  loss=keras.losses.SparseCategoricalCrossentropy(),\n",
        "                  metrics=['accuracy'])\n",
        "\n",
        "    return  model"
      ]
    },
    {
      "cell_type": "code",
      "execution_count": 11,
      "id": "67691aab-1dbd-4a9a-adb4-b54f7b6b89bf",
      "metadata": {
        "execution": {
          "iopub.execute_input": "2025-07-03T14:51:43.640027Z",
          "iopub.status.busy": "2025-07-03T14:51:43.639670Z",
          "iopub.status.idle": "2025-07-03T14:51:44.065777Z",
          "shell.execute_reply": "2025-07-03T14:51:44.065392Z",
          "shell.execute_reply.started": "2025-07-03T14:51:43.640007Z"
        },
        "id": "67691aab-1dbd-4a9a-adb4-b54f7b6b89bf",
        "outputId": "a63738be-8ddc-42bc-97d5-812e86c327ca",
        "colab": {
          "base_uri": "https://localhost:8080/",
          "height": 324
        }
      },
      "outputs": [
        {
          "output_type": "stream",
          "name": "stdout",
          "text": [
            "Downloading data from https://storage.googleapis.com/tensorflow/keras-applications/vgg19/vgg19_weights_tf_dim_ordering_tf_kernels_notop.h5\n",
            "\u001b[1m80134624/80134624\u001b[0m \u001b[32m━━━━━━━━━━━━━━━━━━━━\u001b[0m\u001b[37m\u001b[0m \u001b[1m3s\u001b[0m 0us/step\n"
          ]
        },
        {
          "output_type": "display_data",
          "data": {
            "text/plain": [
              "\u001b[1mModel: \"sequential\"\u001b[0m\n"
            ],
            "text/html": [
              "<pre style=\"white-space:pre;overflow-x:auto;line-height:normal;font-family:Menlo,'DejaVu Sans Mono',consolas,'Courier New',monospace\"><span style=\"font-weight: bold\">Model: \"sequential\"</span>\n",
              "</pre>\n"
            ]
          },
          "metadata": {}
        },
        {
          "output_type": "display_data",
          "data": {
            "text/plain": [
              "┏━━━━━━━━━━━━━━━━━━━━━━━━━━━━━━━━━┳━━━━━━━━━━━━━━━━━━━━━━━━┳━━━━━━━━━━━━━━━┓\n",
              "┃\u001b[1m \u001b[0m\u001b[1mLayer (type)                   \u001b[0m\u001b[1m \u001b[0m┃\u001b[1m \u001b[0m\u001b[1mOutput Shape          \u001b[0m\u001b[1m \u001b[0m┃\u001b[1m \u001b[0m\u001b[1m      Param #\u001b[0m\u001b[1m \u001b[0m┃\n",
              "┡━━━━━━━━━━━━━━━━━━━━━━━━━━━━━━━━━╇━━━━━━━━━━━━━━━━━━━━━━━━╇━━━━━━━━━━━━━━━┩\n",
              "│ vgg19 (\u001b[38;5;33mFunctional\u001b[0m)              │ (\u001b[38;5;45mNone\u001b[0m, \u001b[38;5;34m4\u001b[0m, \u001b[38;5;34m4\u001b[0m, \u001b[38;5;34m512\u001b[0m)      │    \u001b[38;5;34m20,024,384\u001b[0m │\n",
              "├─────────────────────────────────┼────────────────────────┼───────────────┤\n",
              "│ global_average_pooling2d        │ (\u001b[38;5;45mNone\u001b[0m, \u001b[38;5;34m512\u001b[0m)            │             \u001b[38;5;34m0\u001b[0m │\n",
              "│ (\u001b[38;5;33mGlobalAveragePooling2D\u001b[0m)        │                        │               │\n",
              "├─────────────────────────────────┼────────────────────────┼───────────────┤\n",
              "│ dense (\u001b[38;5;33mDense\u001b[0m)                   │ (\u001b[38;5;45mNone\u001b[0m, \u001b[38;5;34m64\u001b[0m)             │        \u001b[38;5;34m32,832\u001b[0m │\n",
              "├─────────────────────────────────┼────────────────────────┼───────────────┤\n",
              "│ dense_1 (\u001b[38;5;33mDense\u001b[0m)                 │ (\u001b[38;5;45mNone\u001b[0m, \u001b[38;5;34m12\u001b[0m)             │           \u001b[38;5;34m780\u001b[0m │\n",
              "└─────────────────────────────────┴────────────────────────┴───────────────┘\n"
            ],
            "text/html": [
              "<pre style=\"white-space:pre;overflow-x:auto;line-height:normal;font-family:Menlo,'DejaVu Sans Mono',consolas,'Courier New',monospace\">┏━━━━━━━━━━━━━━━━━━━━━━━━━━━━━━━━━┳━━━━━━━━━━━━━━━━━━━━━━━━┳━━━━━━━━━━━━━━━┓\n",
              "┃<span style=\"font-weight: bold\"> Layer (type)                    </span>┃<span style=\"font-weight: bold\"> Output Shape           </span>┃<span style=\"font-weight: bold\">       Param # </span>┃\n",
              "┡━━━━━━━━━━━━━━━━━━━━━━━━━━━━━━━━━╇━━━━━━━━━━━━━━━━━━━━━━━━╇━━━━━━━━━━━━━━━┩\n",
              "│ vgg19 (<span style=\"color: #0087ff; text-decoration-color: #0087ff\">Functional</span>)              │ (<span style=\"color: #00d7ff; text-decoration-color: #00d7ff\">None</span>, <span style=\"color: #00af00; text-decoration-color: #00af00\">4</span>, <span style=\"color: #00af00; text-decoration-color: #00af00\">4</span>, <span style=\"color: #00af00; text-decoration-color: #00af00\">512</span>)      │    <span style=\"color: #00af00; text-decoration-color: #00af00\">20,024,384</span> │\n",
              "├─────────────────────────────────┼────────────────────────┼───────────────┤\n",
              "│ global_average_pooling2d        │ (<span style=\"color: #00d7ff; text-decoration-color: #00d7ff\">None</span>, <span style=\"color: #00af00; text-decoration-color: #00af00\">512</span>)            │             <span style=\"color: #00af00; text-decoration-color: #00af00\">0</span> │\n",
              "│ (<span style=\"color: #0087ff; text-decoration-color: #0087ff\">GlobalAveragePooling2D</span>)        │                        │               │\n",
              "├─────────────────────────────────┼────────────────────────┼───────────────┤\n",
              "│ dense (<span style=\"color: #0087ff; text-decoration-color: #0087ff\">Dense</span>)                   │ (<span style=\"color: #00d7ff; text-decoration-color: #00d7ff\">None</span>, <span style=\"color: #00af00; text-decoration-color: #00af00\">64</span>)             │        <span style=\"color: #00af00; text-decoration-color: #00af00\">32,832</span> │\n",
              "├─────────────────────────────────┼────────────────────────┼───────────────┤\n",
              "│ dense_1 (<span style=\"color: #0087ff; text-decoration-color: #0087ff\">Dense</span>)                 │ (<span style=\"color: #00d7ff; text-decoration-color: #00d7ff\">None</span>, <span style=\"color: #00af00; text-decoration-color: #00af00\">12</span>)             │           <span style=\"color: #00af00; text-decoration-color: #00af00\">780</span> │\n",
              "└─────────────────────────────────┴────────────────────────┴───────────────┘\n",
              "</pre>\n"
            ]
          },
          "metadata": {}
        },
        {
          "output_type": "display_data",
          "data": {
            "text/plain": [
              "\u001b[1m Total params: \u001b[0m\u001b[38;5;34m20,057,996\u001b[0m (76.52 MB)\n"
            ],
            "text/html": [
              "<pre style=\"white-space:pre;overflow-x:auto;line-height:normal;font-family:Menlo,'DejaVu Sans Mono',consolas,'Courier New',monospace\"><span style=\"font-weight: bold\"> Total params: </span><span style=\"color: #00af00; text-decoration-color: #00af00\">20,057,996</span> (76.52 MB)\n",
              "</pre>\n"
            ]
          },
          "metadata": {}
        },
        {
          "output_type": "display_data",
          "data": {
            "text/plain": [
              "\u001b[1m Trainable params: \u001b[0m\u001b[38;5;34m33,612\u001b[0m (131.30 KB)\n"
            ],
            "text/html": [
              "<pre style=\"white-space:pre;overflow-x:auto;line-height:normal;font-family:Menlo,'DejaVu Sans Mono',consolas,'Courier New',monospace\"><span style=\"font-weight: bold\"> Trainable params: </span><span style=\"color: #00af00; text-decoration-color: #00af00\">33,612</span> (131.30 KB)\n",
              "</pre>\n"
            ]
          },
          "metadata": {}
        },
        {
          "output_type": "display_data",
          "data": {
            "text/plain": [
              "\u001b[1m Non-trainable params: \u001b[0m\u001b[38;5;34m20,024,384\u001b[0m (76.39 MB)\n"
            ],
            "text/html": [
              "<pre style=\"white-space:pre;overflow-x:auto;line-height:normal;font-family:Menlo,'DejaVu Sans Mono',consolas,'Courier New',monospace\"><span style=\"font-weight: bold\"> Non-trainable params: </span><span style=\"color: #00af00; text-decoration-color: #00af00\">20,024,384</span> (76.39 MB)\n",
              "</pre>\n"
            ]
          },
          "metadata": {}
        }
      ],
      "source": [
        "hp = keras_tuner.HyperParameters()\n",
        "model = build_model(hp)\n",
        "model.summary()"
      ]
    },
    {
      "cell_type": "code",
      "execution_count": 12,
      "id": "5ea90d0f-e6b0-47df-aaf4-b4e8ac5be8c8",
      "metadata": {
        "execution": {
          "iopub.execute_input": "2025-07-03T14:52:23.857471Z",
          "iopub.status.busy": "2025-07-03T14:52:23.856943Z",
          "iopub.status.idle": "2025-07-03T14:52:24.155498Z",
          "shell.execute_reply": "2025-07-03T14:52:24.155103Z",
          "shell.execute_reply.started": "2025-07-03T14:52:23.857441Z"
        },
        "id": "5ea90d0f-e6b0-47df-aaf4-b4e8ac5be8c8"
      },
      "outputs": [],
      "source": [
        "tuner = keras_tuner.RandomSearch(\n",
        "    hypermodel=build_model,\n",
        "    objective=\"val_loss\",\n",
        "    max_trials=3,\n",
        "    executions_per_trial=3,\n",
        "    overwrite=True,\n",
        "    directory=\"\",\n",
        "    project_name=\"plagas\",\n",
        ")"
      ]
    },
    {
      "cell_type": "code",
      "execution_count": 13,
      "id": "00271280-1a72-407d-ab5f-179c41500892",
      "metadata": {
        "execution": {
          "iopub.execute_input": "2025-07-03T14:52:24.288229Z",
          "iopub.status.busy": "2025-07-03T14:52:24.287844Z",
          "iopub.status.idle": "2025-07-03T14:52:24.290773Z",
          "shell.execute_reply": "2025-07-03T14:52:24.290383Z",
          "shell.execute_reply.started": "2025-07-03T14:52:24.288213Z"
        },
        "id": "00271280-1a72-407d-ab5f-179c41500892",
        "outputId": "b167a100-93a9-4ee1-bcab-1a265e7b4fd3",
        "colab": {
          "base_uri": "https://localhost:8080/"
        }
      },
      "outputs": [
        {
          "output_type": "stream",
          "name": "stdout",
          "text": [
            "Search space summary\n",
            "Default search space size: 2\n",
            "units (Choice)\n",
            "{'default': 64, 'conditions': [], 'values': [64, 128, 256], 'ordered': True}\n",
            "lr (Float)\n",
            "{'default': 0.0001, 'conditions': [], 'min_value': 0.0001, 'max_value': 0.01, 'step': None, 'sampling': 'log'}\n"
          ]
        }
      ],
      "source": [
        "tuner.search_space_summary()"
      ]
    },
    {
      "cell_type": "code",
      "execution_count": null,
      "id": "8ecc22c7-fccc-43eb-be7d-0dbbcfcb0cac",
      "metadata": {
        "execution": {
          "iopub.execute_input": "2025-07-03T14:52:24.792383Z",
          "iopub.status.busy": "2025-07-03T14:52:24.792027Z",
          "iopub.status.idle": "2025-07-03T15:15:16.731838Z",
          "shell.execute_reply": "2025-07-03T15:15:16.731381Z",
          "shell.execute_reply.started": "2025-07-03T14:52:24.792361Z"
        },
        "id": "8ecc22c7-fccc-43eb-be7d-0dbbcfcb0cac",
        "outputId": "25b1f8ef-b073-414f-8e61-5cb9a529dc3b",
        "colab": {
          "base_uri": "https://localhost:8080/"
        }
      },
      "outputs": [
        {
          "output_type": "stream",
          "name": "stdout",
          "text": [
            "\n",
            "Search: Running Trial #1\n",
            "\n",
            "Value             |Best Value So Far |Hyperparameter\n",
            "256               |256               |units\n",
            "0.0003215         |0.0003215         |lr\n",
            "\n"
          ]
        },
        {
          "output_type": "stream",
          "name": "stderr",
          "text": [
            "/usr/local/lib/python3.11/dist-packages/keras/src/trainers/data_adapters/py_dataset_adapter.py:121: UserWarning: Your `PyDataset` class should call `super().__init__(**kwargs)` in its constructor. `**kwargs` can include `workers`, `use_multiprocessing`, `max_queue_size`. Do not pass these arguments to `fit()`, as they will be ignored.\n",
            "  self._warn_if_super_not_called()\n"
          ]
        },
        {
          "output_type": "stream",
          "name": "stdout",
          "text": [
            "Epoch 1/15\n",
            "\u001b[1m 11/120\u001b[0m \u001b[32m━\u001b[0m\u001b[37m━━━━━━━━━━━━━━━━━━━\u001b[0m \u001b[1m12:58\u001b[0m 7s/step - accuracy: 0.0910 - loss: 2.5914"
          ]
        }
      ],
      "source": [
        "tuner.search(train_generator, epochs=15, validation_data=(tune_generator))"
      ]
    },
    {
      "cell_type": "markdown",
      "source": [
        "## Créditos\n",
        "---\n",
        "* **Profesores:**\n",
        "  - [Jorge E. Camargo, PhD](https://dis.unal.edu.co/~jecamargom/)\n",
        "* **Asistentes docentes:**\n",
        "    - [Juan Sebastián Malagón Torres](https://co.linkedin.com/in/juan-sebastian-malag%C3%B3n-torres-86039a164).\n",
        "* **Diseño de imágenes:**\n",
        "    - [Sebastián Daniel Moreno Martinez](http://www.linkedin.com/in/sm-xwx).\n",
        "* **Coordinador de virtualización:**\n",
        "    - [Edder Hernández Forero](https://www.linkedin.com/in/edder-hernandez-forero-28aa8b207/).\n",
        "    "
      ],
      "metadata": {
        "id": "RIesfHlC2YFo"
      },
      "id": "RIesfHlC2YFo"
    }
  ],
  "metadata": {
    "kernelspec": {
      "display_name": "Python 3 (ipykernel)",
      "language": "python",
      "name": "python3"
    },
    "language_info": {
      "codemirror_mode": {
        "name": "ipython",
        "version": 3
      },
      "file_extension": ".py",
      "mimetype": "text/x-python",
      "name": "python",
      "nbconvert_exporter": "python",
      "pygments_lexer": "ipython3",
      "version": "3.10.0"
    },
    "colab": {
      "provenance": []
    }
  },
  "nbformat": 4,
  "nbformat_minor": 5
}